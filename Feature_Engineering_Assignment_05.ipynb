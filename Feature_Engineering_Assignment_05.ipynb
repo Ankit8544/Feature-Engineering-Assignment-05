{
 "cells": [
  {
   "cell_type": "markdown",
   "metadata": {},
   "source": [
    "Q.No-01    Pearson correlation coefficient is a measure of the linear relationship between two variables. Suppose you have collected data on the amount of time students spend studying for an exam and their final exam scores. Calculate the Pearson correlation coefficient between these two variables and interpret the result."
   ]
  },
  {
   "cell_type": "markdown",
   "metadata": {},
   "source": [
    "Ans :-"
   ]
  },
  {
   "cell_type": "markdown",
   "metadata": {},
   "source": [
    "**To calculate the Pearson correlation coefficient between two variables in Python, we can use the `pearsonr` function from the `scipy.stats` library.**\n",
    "\n",
    "First, we'll need to have our data in two lists or arrays, one for the time spent studying and another for the final exam scores. \n",
    "\n",
    "\n",
    "$$Time\\ Spent\\ Studying = [10, 20, 30, 40, 50]$$\n",
    "$$Final\\ Exam\\ Scores = [60, 70, 80, 90, 100]$$"
   ]
  },
  {
   "cell_type": "code",
   "execution_count": 2,
   "metadata": {},
   "outputs": [
    {
     "name": "stdout",
     "output_type": "stream",
     "text": [
      "Pearson Correlation Coefficient :- 1.0\n",
      "Statistically Significant P-value for the Co-relation :- 0.0\n"
     ]
    }
   ],
   "source": [
    "import numpy as np\n",
    "from scipy.stats import pearsonr\n",
    "\n",
    "# Sample data (replace with your actual data)\n",
    "time_spent_studying = [10, 20, 30, 40, 50]\n",
    "final_exam_scores = [60, 70, 80, 90, 100]\n",
    "\n",
    "# Calculate the Pearson correlation coefficient\n",
    "correlation_coefficient, p_value = pearsonr(time_spent_studying, final_exam_scores)\n",
    "\n",
    "print(f\"Pearson Correlation Coefficient :- {correlation_coefficient}\")\n",
    "print(f\"Statistically Significant P-value for the Co-relation :- {p_value}\")"
   ]
  },
  {
   "cell_type": "markdown",
   "metadata": {},
   "source": [
    "$$P\\ value = 0$$\n",
    "\n",
    "`So`, **it indicates that there is strong evidence to support the claim that there is a `Significant Linear Relationship` between the two variables (time spent studying and final exam scores)**.\n",
    "\n",
    "`In other words`, **The P-value suggests that the observed correlation is unlikely to have occurred by random chance.**"
   ]
  },
  {
   "cell_type": "markdown",
   "metadata": {},
   "source": [
    "**Interpretion of the result :-**\n",
    "\n",
    "1. **Pearson Correlation Coefficient (r):** The correlation coefficient, which quantifies the strength and direction of the linear relationship, is very close to 1 or -1 (depending on the direction of the correlation). This suggests that there is a very strong linear relationship between the amount of time students spend studying for an exam and their final exam scores.\n",
    "\n",
    "   - If the correlation coefficient is close to 1, it indicates a strong positive linear relationship, meaning that as students spend more time studying, their final exam scores tend to increase significantly.\n",
    "   \n",
    "   - If the correlation coefficient is close to -1, it indicates a strong negative linear relationship, suggesting that more study time is associated with lower exam scores.\n",
    "\n",
    "2. **P-Value:** The p-value of 0 indicates that the observed correlation is highly statistically significant. In practical terms, this means that the likelihood of obtaining such a strong correlation purely by random chance is extremely low. Therefore, you can confidently conclude that there is a real and strong linear relationship between study time and exam scores in your dataset."
   ]
  },
  {
   "cell_type": "markdown",
   "metadata": {},
   "source": [
    "`In summary`, The Pearson Correlation Coefficient and the very low p-value together suggest that the amount of time students spend studying for an exam has a significant and strong linear impact on their final exam scores."
   ]
  },
  {
   "cell_type": "markdown",
   "metadata": {},
   "source": [
    "---------------------------------------------------------------------------------------------------------------------------"
   ]
  },
  {
   "cell_type": "markdown",
   "metadata": {},
   "source": [
    "Q.No-02    Spearman's rank correlation is a measure of the monotonic relationship between two variables. Suppose you have collected data on the amount of sleep individuals get each night and their overall job satisfaction level on a scale of 1 to 10. Calculate the Spearman's rank correlation between these two variables and interpret the result."
   ]
  },
  {
   "cell_type": "markdown",
   "metadata": {},
   "source": [
    "Ans :-"
   ]
  },
  {
   "cell_type": "markdown",
   "metadata": {},
   "source": [
    "**To calculate Spearman's rank correlation between the amount of sleep individuals get each night and their overall job satisfaction level, `we can follow these steps`**"
   ]
  },
  {
   "cell_type": "markdown",
   "metadata": {},
   "source": [
    "   **Let's assume you have the following data for 10 individuals :-**\n",
    "\n",
    "   | Individual | Amount of Sleep (X) | Job Satisfaction (Y) |\n",
    "   |------------|----------------------|-----------------------|\n",
    "   | 1          | 6                    | 8                     |\n",
    "   | 2          | 7                    | 7                     |\n",
    "   | 3          | 8                    | 6                     |\n",
    "   | 4          | 5                    | 9                     |\n",
    "   | 5          | 7                    | 7                     |\n",
    "   | 6          | 6                    | 8                     |\n",
    "   | 7          | 8                    | 5                     |\n",
    "   | 8          | 5                    | 9                     |\n",
    "   | 9          | 7                    | 6                     |\n",
    "   | 10         | 6                    | 8                     |"
   ]
  },
  {
   "cell_type": "markdown",
   "metadata": {},
   "source": [
    "1. **Collect and Rank the Data**: First, we need to collect the data and rank the values for each variable separately. Rank the values from lowest to highest for both variables."
   ]
  },
  {
   "cell_type": "code",
   "execution_count": 3,
   "metadata": {},
   "outputs": [
    {
     "name": "stdout",
     "output_type": "stream",
     "text": [
      "Step 1: Data and Rank Calculation\n"
     ]
    },
    {
     "data": {
      "text/html": [
       "<div>\n",
       "<style scoped>\n",
       "    .dataframe tbody tr th:only-of-type {\n",
       "        vertical-align: middle;\n",
       "    }\n",
       "\n",
       "    .dataframe tbody tr th {\n",
       "        vertical-align: top;\n",
       "    }\n",
       "\n",
       "    .dataframe thead th {\n",
       "        text-align: right;\n",
       "    }\n",
       "</style>\n",
       "<table border=\"1\" class=\"dataframe\">\n",
       "  <thead>\n",
       "    <tr style=\"text-align: right;\">\n",
       "      <th></th>\n",
       "      <th>Amount_of_Sleep</th>\n",
       "      <th>Job_Satisfaction</th>\n",
       "      <th>Sleep_Rank</th>\n",
       "      <th>Satisfaction_Rank</th>\n",
       "    </tr>\n",
       "    <tr>\n",
       "      <th>Individual</th>\n",
       "      <th></th>\n",
       "      <th></th>\n",
       "      <th></th>\n",
       "      <th></th>\n",
       "    </tr>\n",
       "  </thead>\n",
       "  <tbody>\n",
       "    <tr>\n",
       "      <th>1</th>\n",
       "      <td>6</td>\n",
       "      <td>8</td>\n",
       "      <td>4.0</td>\n",
       "      <td>7.0</td>\n",
       "    </tr>\n",
       "    <tr>\n",
       "      <th>2</th>\n",
       "      <td>7</td>\n",
       "      <td>7</td>\n",
       "      <td>7.0</td>\n",
       "      <td>4.5</td>\n",
       "    </tr>\n",
       "    <tr>\n",
       "      <th>3</th>\n",
       "      <td>8</td>\n",
       "      <td>6</td>\n",
       "      <td>9.5</td>\n",
       "      <td>2.5</td>\n",
       "    </tr>\n",
       "    <tr>\n",
       "      <th>4</th>\n",
       "      <td>5</td>\n",
       "      <td>9</td>\n",
       "      <td>1.5</td>\n",
       "      <td>9.5</td>\n",
       "    </tr>\n",
       "    <tr>\n",
       "      <th>5</th>\n",
       "      <td>7</td>\n",
       "      <td>7</td>\n",
       "      <td>7.0</td>\n",
       "      <td>4.5</td>\n",
       "    </tr>\n",
       "    <tr>\n",
       "      <th>6</th>\n",
       "      <td>6</td>\n",
       "      <td>8</td>\n",
       "      <td>4.0</td>\n",
       "      <td>7.0</td>\n",
       "    </tr>\n",
       "    <tr>\n",
       "      <th>7</th>\n",
       "      <td>8</td>\n",
       "      <td>5</td>\n",
       "      <td>9.5</td>\n",
       "      <td>1.0</td>\n",
       "    </tr>\n",
       "    <tr>\n",
       "      <th>8</th>\n",
       "      <td>5</td>\n",
       "      <td>9</td>\n",
       "      <td>1.5</td>\n",
       "      <td>9.5</td>\n",
       "    </tr>\n",
       "    <tr>\n",
       "      <th>9</th>\n",
       "      <td>7</td>\n",
       "      <td>6</td>\n",
       "      <td>7.0</td>\n",
       "      <td>2.5</td>\n",
       "    </tr>\n",
       "    <tr>\n",
       "      <th>10</th>\n",
       "      <td>6</td>\n",
       "      <td>8</td>\n",
       "      <td>4.0</td>\n",
       "      <td>7.0</td>\n",
       "    </tr>\n",
       "  </tbody>\n",
       "</table>\n",
       "</div>"
      ],
      "text/plain": [
       "            Amount_of_Sleep  Job_Satisfaction  Sleep_Rank  Satisfaction_Rank\n",
       "Individual                                                                  \n",
       "1                         6                 8         4.0                7.0\n",
       "2                         7                 7         7.0                4.5\n",
       "3                         8                 6         9.5                2.5\n",
       "4                         5                 9         1.5                9.5\n",
       "5                         7                 7         7.0                4.5\n",
       "6                         6                 8         4.0                7.0\n",
       "7                         8                 5         9.5                1.0\n",
       "8                         5                 9         1.5                9.5\n",
       "9                         7                 6         7.0                2.5\n",
       "10                        6                 8         4.0                7.0"
      ]
     },
     "metadata": {},
     "output_type": "display_data"
    }
   ],
   "source": [
    "import pandas as pd\n",
    "\n",
    "data = {\n",
    "    \"Individual\": [1, 2, 3, 4, 5, 6, 7, 8, 9, 10],\n",
    "    \"Amount_of_Sleep\": [6, 7, 8, 5, 7, 6, 8, 5, 7, 6],\n",
    "    \"Job_Satisfaction\": [8, 7, 6, 9, 7, 8, 5, 9, 6, 8]\n",
    "}\n",
    "\n",
    "Q_No_02_df = pd.DataFrame(data)\n",
    "Q_No_02_df.set_index('Individual', inplace=True)  # Set 'Individual' column as index\n",
    "\n",
    "# Step 1: Rank the Data\n",
    "Q_No_02_df['Sleep_Rank'] = Q_No_02_df['Amount_of_Sleep'].rank()\n",
    "Q_No_02_df['Satisfaction_Rank'] = Q_No_02_df['Job_Satisfaction'].rank()\n",
    "\n",
    "print(\"Step 1: Data and Rank Calculation\")\n",
    "display(Q_No_02_df)\n"
   ]
  },
  {
   "cell_type": "markdown",
   "metadata": {},
   "source": [
    "2. **Calculate the Difference in Ranks**: Find the difference between the ranks of the two variables for each individual."
   ]
  },
  {
   "cell_type": "code",
   "execution_count": 4,
   "metadata": {},
   "outputs": [
    {
     "name": "stdout",
     "output_type": "stream",
     "text": [
      "Step 2: Calculate the Difference in Ranks\n"
     ]
    },
    {
     "data": {
      "text/html": [
       "<div>\n",
       "<style scoped>\n",
       "    .dataframe tbody tr th:only-of-type {\n",
       "        vertical-align: middle;\n",
       "    }\n",
       "\n",
       "    .dataframe tbody tr th {\n",
       "        vertical-align: top;\n",
       "    }\n",
       "\n",
       "    .dataframe thead th {\n",
       "        text-align: right;\n",
       "    }\n",
       "</style>\n",
       "<table border=\"1\" class=\"dataframe\">\n",
       "  <thead>\n",
       "    <tr style=\"text-align: right;\">\n",
       "      <th></th>\n",
       "      <th>Amount_of_Sleep</th>\n",
       "      <th>Job_Satisfaction</th>\n",
       "      <th>Sleep_Rank</th>\n",
       "      <th>Satisfaction_Rank</th>\n",
       "      <th>Rank_Difference</th>\n",
       "    </tr>\n",
       "    <tr>\n",
       "      <th>Individual</th>\n",
       "      <th></th>\n",
       "      <th></th>\n",
       "      <th></th>\n",
       "      <th></th>\n",
       "      <th></th>\n",
       "    </tr>\n",
       "  </thead>\n",
       "  <tbody>\n",
       "    <tr>\n",
       "      <th>1</th>\n",
       "      <td>6</td>\n",
       "      <td>8</td>\n",
       "      <td>4.0</td>\n",
       "      <td>7.0</td>\n",
       "      <td>-3.0</td>\n",
       "    </tr>\n",
       "    <tr>\n",
       "      <th>2</th>\n",
       "      <td>7</td>\n",
       "      <td>7</td>\n",
       "      <td>7.0</td>\n",
       "      <td>4.5</td>\n",
       "      <td>2.5</td>\n",
       "    </tr>\n",
       "    <tr>\n",
       "      <th>3</th>\n",
       "      <td>8</td>\n",
       "      <td>6</td>\n",
       "      <td>9.5</td>\n",
       "      <td>2.5</td>\n",
       "      <td>7.0</td>\n",
       "    </tr>\n",
       "    <tr>\n",
       "      <th>4</th>\n",
       "      <td>5</td>\n",
       "      <td>9</td>\n",
       "      <td>1.5</td>\n",
       "      <td>9.5</td>\n",
       "      <td>-8.0</td>\n",
       "    </tr>\n",
       "    <tr>\n",
       "      <th>5</th>\n",
       "      <td>7</td>\n",
       "      <td>7</td>\n",
       "      <td>7.0</td>\n",
       "      <td>4.5</td>\n",
       "      <td>2.5</td>\n",
       "    </tr>\n",
       "    <tr>\n",
       "      <th>6</th>\n",
       "      <td>6</td>\n",
       "      <td>8</td>\n",
       "      <td>4.0</td>\n",
       "      <td>7.0</td>\n",
       "      <td>-3.0</td>\n",
       "    </tr>\n",
       "    <tr>\n",
       "      <th>7</th>\n",
       "      <td>8</td>\n",
       "      <td>5</td>\n",
       "      <td>9.5</td>\n",
       "      <td>1.0</td>\n",
       "      <td>8.5</td>\n",
       "    </tr>\n",
       "    <tr>\n",
       "      <th>8</th>\n",
       "      <td>5</td>\n",
       "      <td>9</td>\n",
       "      <td>1.5</td>\n",
       "      <td>9.5</td>\n",
       "      <td>-8.0</td>\n",
       "    </tr>\n",
       "    <tr>\n",
       "      <th>9</th>\n",
       "      <td>7</td>\n",
       "      <td>6</td>\n",
       "      <td>7.0</td>\n",
       "      <td>2.5</td>\n",
       "      <td>4.5</td>\n",
       "    </tr>\n",
       "    <tr>\n",
       "      <th>10</th>\n",
       "      <td>6</td>\n",
       "      <td>8</td>\n",
       "      <td>4.0</td>\n",
       "      <td>7.0</td>\n",
       "      <td>-3.0</td>\n",
       "    </tr>\n",
       "  </tbody>\n",
       "</table>\n",
       "</div>"
      ],
      "text/plain": [
       "            Amount_of_Sleep  Job_Satisfaction  Sleep_Rank  Satisfaction_Rank  \\\n",
       "Individual                                                                     \n",
       "1                         6                 8         4.0                7.0   \n",
       "2                         7                 7         7.0                4.5   \n",
       "3                         8                 6         9.5                2.5   \n",
       "4                         5                 9         1.5                9.5   \n",
       "5                         7                 7         7.0                4.5   \n",
       "6                         6                 8         4.0                7.0   \n",
       "7                         8                 5         9.5                1.0   \n",
       "8                         5                 9         1.5                9.5   \n",
       "9                         7                 6         7.0                2.5   \n",
       "10                        6                 8         4.0                7.0   \n",
       "\n",
       "            Rank_Difference  \n",
       "Individual                   \n",
       "1                      -3.0  \n",
       "2                       2.5  \n",
       "3                       7.0  \n",
       "4                      -8.0  \n",
       "5                       2.5  \n",
       "6                      -3.0  \n",
       "7                       8.5  \n",
       "8                      -8.0  \n",
       "9                       4.5  \n",
       "10                     -3.0  "
      ]
     },
     "metadata": {},
     "output_type": "display_data"
    }
   ],
   "source": [
    "# Step 2: Calculate the Difference in Ranks\n",
    "Q_No_02_df['Rank_Difference'] = Q_No_02_df['Sleep_Rank'] - Q_No_02_df['Satisfaction_Rank']\n",
    "\n",
    "print(\"Step 2: Calculate the Difference in Ranks\")\n",
    "display(Q_No_02_df)"
   ]
  },
  {
   "cell_type": "markdown",
   "metadata": {},
   "source": [
    "3. **Calculate the Spearman's Rank Correlation**: Use the formula for Spearman's rank correlation coefficient (ρ):"
   ]
  },
  {
   "cell_type": "code",
   "execution_count": 5,
   "metadata": {},
   "outputs": [
    {
     "name": "stdout",
     "output_type": "stream",
     "text": [
      "\n",
      "Step 3: Calculate the Spearman's Rank Correlation Coefficient\n",
      "Spearman's Rank Correlation Coefficient (ρ) = -0.8727\n"
     ]
    }
   ],
   "source": [
    "# Step 3: Calculate the Spearman's Rank Correlation Coefficient\n",
    "n = len(Q_No_02_df)\n",
    "sum_of_squared_differences = (Q_No_02_df['Rank_Difference'] ** 2).sum()\n",
    "rho = 1 - (6 * sum_of_squared_differences) / (n * (n**2 - 1))\n",
    "\n",
    "print(\"\\nStep 3: Calculate the Spearman's Rank Correlation Coefficient\")\n",
    "print(f\"Spearman's Rank Correlation Coefficient (ρ) = {rho:.4f}\")"
   ]
  },
  {
   "cell_type": "markdown",
   "metadata": {},
   "source": [
    "4. **Interpret the Result**: The Spearman's rank correlation coefficient (ρ) is approximately -0.8727. This value suggests a strong negative monotonic relationship between the amount of sleep individuals get each night and their overall job satisfaction level. In other words, as the amount of sleep tends to increase, job satisfaction tends to decrease, and vice versa. The negative correlation implies that individuals who get more sleep generally tend to report lower job satisfaction levels on a scale of 1 to 10."
   ]
  },
  {
   "cell_type": "markdown",
   "metadata": {},
   "source": [
    "---------------------------------------------------------------------------------------------------------------------------"
   ]
  },
  {
   "cell_type": "markdown",
   "metadata": {},
   "source": [
    "Q.No-03    Suppose you are conducting a study to examine the relationship between the number of hours of exercise per week and body mass index (BMI) in a sample of adults. You collected data on both variables for 50 participants. Calculate the Pearson correlation coefficient and the Spearman's rank correlation between these two variables and compare the results."
   ]
  },
  {
   "cell_type": "markdown",
   "metadata": {},
   "source": [
    "Ans :-"
   ]
  },
  {
   "cell_type": "markdown",
   "metadata": {},
   "source": [
    "**To calculate the `Pearson correlation coefficient` and `Spearman's rank correlation` between the number of hours of exercise per week and body mass index (BMI) in our `sample of 50 participants`.**\n",
    "\n",
    "**`we'll need to follow these steps`**"
   ]
  },
  {
   "cell_type": "markdown",
   "metadata": {},
   "source": [
    "1. **Create DataFrame with Random Data :-**"
   ]
  },
  {
   "cell_type": "code",
   "execution_count": 24,
   "metadata": {},
   "outputs": [
    {
     "name": "stdout",
     "output_type": "stream",
     "text": [
      "DataFrame with random data (Top 5) :-\n"
     ]
    },
    {
     "data": {
      "text/html": [
       "<div>\n",
       "<style scoped>\n",
       "    .dataframe tbody tr th:only-of-type {\n",
       "        vertical-align: middle;\n",
       "    }\n",
       "\n",
       "    .dataframe tbody tr th {\n",
       "        vertical-align: top;\n",
       "    }\n",
       "\n",
       "    .dataframe thead th {\n",
       "        text-align: right;\n",
       "    }\n",
       "</style>\n",
       "<table border=\"1\" class=\"dataframe\">\n",
       "  <thead>\n",
       "    <tr style=\"text-align: right;\">\n",
       "      <th></th>\n",
       "      <th>Exercise_Hours</th>\n",
       "      <th>BMI</th>\n",
       "    </tr>\n",
       "  </thead>\n",
       "  <tbody>\n",
       "    <tr>\n",
       "      <th>0</th>\n",
       "      <td>6</td>\n",
       "      <td>18.225478</td>\n",
       "    </tr>\n",
       "    <tr>\n",
       "      <th>1</th>\n",
       "      <td>1</td>\n",
       "      <td>25.411626</td>\n",
       "    </tr>\n",
       "    <tr>\n",
       "      <th>2</th>\n",
       "      <td>4</td>\n",
       "      <td>25.345149</td>\n",
       "    </tr>\n",
       "    <tr>\n",
       "      <th>3</th>\n",
       "      <td>4</td>\n",
       "      <td>25.403208</td>\n",
       "    </tr>\n",
       "    <tr>\n",
       "      <th>4</th>\n",
       "      <td>8</td>\n",
       "      <td>29.324977</td>\n",
       "    </tr>\n",
       "  </tbody>\n",
       "</table>\n",
       "</div>"
      ],
      "text/plain": [
       "   Exercise_Hours        BMI\n",
       "0               6  18.225478\n",
       "1               1  25.411626\n",
       "2               4  25.345149\n",
       "3               4  25.403208\n",
       "4               8  29.324977"
      ]
     },
     "metadata": {},
     "output_type": "display_data"
    }
   ],
   "source": [
    "import pandas as pd\n",
    "import numpy as np\n",
    "\n",
    "# Create a DataFrame with random data for exercise hours and BMI\n",
    "np.random.seed(0)  # Setting a seed for reproducibility\n",
    "data = pd.DataFrame({\n",
    "    'Exercise_Hours': np.random.randint(1, 11, 50),  # Random exercise hours between 1 and 10\n",
    "    'BMI': np.random.uniform(18, 30, 50)  # Random BMI values between 18 and 30\n",
    "})\n",
    "print(\"DataFrame with random data (Top 5) :-\")\n",
    "display(data.head())"
   ]
  },
  {
   "cell_type": "markdown",
   "metadata": {},
   "source": [
    "2. **Calculate Pearson Correlation Coefficient $(r)$ :-**"
   ]
  },
  {
   "cell_type": "code",
   "execution_count": 25,
   "metadata": {},
   "outputs": [
    {
     "name": "stdout",
     "output_type": "stream",
     "text": [
      "Pearson Correlation Coefficient (r): 0.1258\n"
     ]
    }
   ],
   "source": [
    "# Calculate Pearson correlation coefficient\n",
    "pearson_corr = data['Exercise_Hours'].corr(data['BMI'])\n",
    "print(f\"Pearson Correlation Coefficient (r): {pearson_corr:.4f}\")"
   ]
  },
  {
   "cell_type": "markdown",
   "metadata": {},
   "source": [
    "3. **Calculate Spearman's Rank Correlation $(ρ)$ :-**"
   ]
  },
  {
   "cell_type": "code",
   "execution_count": 26,
   "metadata": {},
   "outputs": [
    {
     "name": "stdout",
     "output_type": "stream",
     "text": [
      "Spearman's Rank Correlation (ρ): 0.1371\n"
     ]
    }
   ],
   "source": [
    "# Calculate Spearman's rank correlation\n",
    "data['Exercise_Rank'] = data['Exercise_Hours'].rank()\n",
    "data['BMI_Rank'] = data['BMI'].rank()\n",
    "spearman_corr = 1 - (6 * np.sum((data['Exercise_Rank'] - data['BMI_Rank']) ** 2)) / (50 * (50 ** 2 - 1))\n",
    "print(f\"Spearman's Rank Correlation (ρ): {spearman_corr:.4f}\")"
   ]
  },
  {
   "cell_type": "markdown",
   "metadata": {},
   "source": [
    "**Based on the calculated correlation coefficients for your dataset :-**\n",
    "\n",
    "- $Pearson\\ Correlation\\ Coefficient\\ (r)\\ : 0.1258$\n",
    "- $Spearman's\\ Rank\\ Correlation\\ (ρ)\\ : 0.1371$"
   ]
  },
  {
   "cell_type": "markdown",
   "metadata": {},
   "source": [
    "4.   **Interpret the results :-**\n",
    "\n",
    "   -  **`Pearson Correlation Coefficient` $(r)$ :**\n",
    "\n",
    "      - The Pearson correlation coefficient (r) measures the strength and direction of a linear relationship between two variables.\n",
    "\n",
    "      - In this case, the value of 0.1258 suggests a very weak positive linear relationship between the number of hours of exercise per week and body mass index (BMI). The positive sign indicates that as the number of hours of exercise increases, BMI tends to increase slightly, but the relationship is quite weak.\n",
    "\n",
    "      - The value of 0.1258 is close to zero, indicating that the linear relationship is almost negligible. It's important to note that a value below 0.3 is generally considered a weak correlation.\n",
    "\n",
    "   -  **`Spearman's Rank Correlation` $(ρ)$ :**\n",
    "   \n",
    "      - Spearman's rank correlation (ρ) assesses the strength and direction of a monotonic (non-linear) relationship between two variables. It is less sensitive to outliers and non-linear relationships compared to Pearson's correlation.\n",
    "   \n",
    "      - In this case, the value of 0.1371 suggests a very weak positive monotonic relationship between exercise hours and BMI. This means that there is a slight tendency for individuals who exercise more to have slightly higher BMIs, but the relationship remains very weak.\n",
    "   \n",
    "      - Like Pearson's correlation, the value of 0.1371 is close to zero, indicating that the monotonic relationship is also almost negligible."
   ]
  },
  {
   "cell_type": "markdown",
   "metadata": {},
   "source": [
    "`In summary`, both Pearson's correlation and Spearman's rank correlation show very weak and almost negligible positive relationships between exercise hours and BMI in our sample of adults. These results suggest that there is little to no significant linear or monotonic relationship between the two variables in our dataset."
   ]
  },
  {
   "cell_type": "markdown",
   "metadata": {},
   "source": [
    "--------------------------------------------------------------------------------------------------------------------"
   ]
  },
  {
   "cell_type": "markdown",
   "metadata": {},
   "source": [
    "Q.No-04    A researcher is interested in examining the relationship between the number of hours individuals spend watching television per day and their level of physical activity. The researcher collected data on both variables from a sample of 50 participants. Calculate the Pearson correlation coefficient between these two variables."
   ]
  },
  {
   "cell_type": "markdown",
   "metadata": {},
   "source": [
    "Ans :-"
   ]
  },
  {
   "cell_type": "markdown",
   "metadata": {},
   "source": [
    "1. **Create DataFrame with Random Data :-**"
   ]
  },
  {
   "cell_type": "code",
   "execution_count": 27,
   "metadata": {},
   "outputs": [],
   "source": [
    "import numpy as np\n",
    "from scipy.stats import pearsonr\n",
    "\n",
    "# Sample data for hours of TV watching and level of physical activity\n",
    "hours_of_tv = [2.5, 3.0, 1.5, 2.0, 3.5, 4.0, 2.5, 3.0, 1.0, 2.0,\n",
    "               3.5, 4.0, 2.5, 3.0, 1.5, 2.0, 3.5, 4.0, 2.5, 3.0,\n",
    "               1.0, 2.0, 3.5, 4.0, 2.5, 3.0, 1.5, 2.0, 3.5, 4.0,\n",
    "               2.5, 3.0, 1.0, 2.0, 3.5, 4.0, 2.5, 3.0, 1.5, 2.0,\n",
    "               3.5, 4.0, 2.5, 3.0, 1.0, 2.0, 3.5, 4.0, 2.5, 3.0]\n",
    "\n",
    "\n",
    "physical_activity = [30, 45, 15, 20, 50, 60, 35, 40, 10, 25,\n",
    "                     55, 70, 30, 45, 15, 20, 50, 60, 35, 40,\n",
    "                     10, 25, 55, 70, 30, 45, 15, 20, 50, 60,\n",
    "                     35, 40, 10, 25, 55, 70, 30, 45, 15, 20,\n",
    "                     50, 60, 35, 40, 10, 25, 55, 70, 60, 45]"
   ]
  },
  {
   "cell_type": "markdown",
   "metadata": {},
   "source": [
    "2. **Calculate Pearson correlation coefficient :-**"
   ]
  },
  {
   "cell_type": "code",
   "execution_count": 31,
   "metadata": {},
   "outputs": [
    {
     "name": "stdout",
     "output_type": "stream",
     "text": [
      "Pearson Correlation Coefficient: 0.9599739054804429\n"
     ]
    }
   ],
   "source": [
    "# Calculate Pearson correlation coefficient\n",
    "correlation_coefficient, _ = pearsonr(hours_of_tv, physical_activity)\n",
    "print(\"Pearson Correlation Coefficient:\", correlation_coefficient)"
   ]
  },
  {
   "cell_type": "markdown",
   "metadata": {},
   "source": [
    "3.  **Result :-**"
   ]
  },
  {
   "cell_type": "code",
   "execution_count": 35,
   "metadata": {},
   "outputs": [
    {
     "name": "stdout",
     "output_type": "stream",
     "text": [
      "Pearson Correlation Coefficient :- 0.9600 Approx\n"
     ]
    }
   ],
   "source": [
    "# Print the resulty\n",
    "print(f\"Pearson Correlation Coefficient :- {correlation_coefficient:.4f} Approx\")"
   ]
  },
  {
   "cell_type": "markdown",
   "metadata": {},
   "source": [
    "--------------------------------------------------------------------------------------------------------------------"
   ]
  },
  {
   "cell_type": "markdown",
   "metadata": {},
   "source": [
    "Q.No-05    A survey was conducted to examine the relationship between age and preference for a particular brand of soft drink. The survey results are shown below :-\n",
    "\n",
    "   |      Age(Years)      | Soft drink Preference |\n",
    "   |----------------------|-----------------------|\n",
    "   | 25                   | Coke                  |\n",
    "   | 42                   | Pepsi                 |\n",
    "   | 37                   | Mountain dew          |\n",
    "   | 19                   | Coke                  |\n",
    "   | 31                   | Pepsi                 |\n",
    "   | 28                   | Coke                  |"
   ]
  },
  {
   "cell_type": "markdown",
   "metadata": {},
   "source": [
    "Ans :-"
   ]
  },
  {
   "cell_type": "markdown",
   "metadata": {},
   "source": []
  },
  {
   "cell_type": "code",
   "execution_count": 45,
   "metadata": {},
   "outputs": [
    {
     "data": {
      "text/html": [
       "<div>\n",
       "<style scoped>\n",
       "    .dataframe tbody tr th:only-of-type {\n",
       "        vertical-align: middle;\n",
       "    }\n",
       "\n",
       "    .dataframe tbody tr th {\n",
       "        vertical-align: top;\n",
       "    }\n",
       "\n",
       "    .dataframe thead th {\n",
       "        text-align: right;\n",
       "    }\n",
       "</style>\n",
       "<table border=\"1\" class=\"dataframe\">\n",
       "  <thead>\n",
       "    <tr style=\"text-align: right;\">\n",
       "      <th></th>\n",
       "      <th>count</th>\n",
       "      <th>mean</th>\n",
       "      <th>std</th>\n",
       "      <th>min</th>\n",
       "      <th>25%</th>\n",
       "      <th>50%</th>\n",
       "      <th>75%</th>\n",
       "      <th>max</th>\n",
       "    </tr>\n",
       "    <tr>\n",
       "      <th>Soft drink Preference</th>\n",
       "      <th></th>\n",
       "      <th></th>\n",
       "      <th></th>\n",
       "      <th></th>\n",
       "      <th></th>\n",
       "      <th></th>\n",
       "      <th></th>\n",
       "      <th></th>\n",
       "    </tr>\n",
       "  </thead>\n",
       "  <tbody>\n",
       "    <tr>\n",
       "      <th>Coke</th>\n",
       "      <td>3.0</td>\n",
       "      <td>24.0</td>\n",
       "      <td>4.582576</td>\n",
       "      <td>19.0</td>\n",
       "      <td>22.00</td>\n",
       "      <td>25.0</td>\n",
       "      <td>26.50</td>\n",
       "      <td>28.0</td>\n",
       "    </tr>\n",
       "    <tr>\n",
       "      <th>Mountain Dew</th>\n",
       "      <td>1.0</td>\n",
       "      <td>37.0</td>\n",
       "      <td>NaN</td>\n",
       "      <td>37.0</td>\n",
       "      <td>37.00</td>\n",
       "      <td>37.0</td>\n",
       "      <td>37.00</td>\n",
       "      <td>37.0</td>\n",
       "    </tr>\n",
       "    <tr>\n",
       "      <th>Pepsi</th>\n",
       "      <td>2.0</td>\n",
       "      <td>36.5</td>\n",
       "      <td>7.778175</td>\n",
       "      <td>31.0</td>\n",
       "      <td>33.75</td>\n",
       "      <td>36.5</td>\n",
       "      <td>39.25</td>\n",
       "      <td>42.0</td>\n",
       "    </tr>\n",
       "  </tbody>\n",
       "</table>\n",
       "</div>"
      ],
      "text/plain": [
       "                       count  mean       std   min    25%   50%    75%   max\n",
       "Soft drink Preference                                                       \n",
       "Coke                     3.0  24.0  4.582576  19.0  22.00  25.0  26.50  28.0\n",
       "Mountain Dew             1.0  37.0       NaN  37.0  37.00  37.0  37.00  37.0\n",
       "Pepsi                    2.0  36.5  7.778175  31.0  33.75  36.5  39.25  42.0"
      ]
     },
     "metadata": {},
     "output_type": "display_data"
    },
    {
     "data": {
      "image/png": "[encoded data removed]",
      "text/plain": [
       "<Figure size 800x600 with 1 Axes>"
      ]
     },
     "metadata": {},
     "output_type": "display_data"
    }
   ],
   "source": [
    "import pandas as pd\n",
    "import matplotlib.pyplot as plt\n",
    "import seaborn as sns\n",
    "\n",
    "# Create a DataFrame with the survey data\n",
    "data = {'Age(Years)': [25, 42, 37, 19, 31, 28],\n",
    "        'Soft drink Preference': ['Coke', 'Pepsi', 'Mountain Dew', 'Coke', 'Pepsi', 'Coke']}\n",
    "\n",
    "df = pd.DataFrame(data)\n",
    "\n",
    "# Calculate summary statistics\n",
    "summary_stats = df.groupby('Soft drink Preference')['Age(Years)'].describe()\n",
    "\n",
    "# Print the summary statistics\n",
    "display(summary_stats)\n",
    "\n",
    "# Create a boxplot to visualize the relationship between age and preference\n",
    "plt.figure(figsize=(8, 6))\n",
    "sns.boxplot(x='Soft drink Preference', y='Age(Years)', data=df)\n",
    "plt.title('Age vs. Soft Drink Preference')\n",
    "plt.xlabel('Soft Drink Preference')\n",
    "plt.ylabel('Age (Years)')\n",
    "plt.show()\n"
   ]
  },
  {
   "cell_type": "markdown",
   "metadata": {},
   "source": [
    "**These are some `observations` and `conclusions` we can make based on the analysis of the provided data :-**"
   ]
  },
  {
   "cell_type": "markdown",
   "metadata": {},
   "source": [
    "1. **Descriptive Statistics**:\n",
    "\n",
    "   - The summary statistics (mean, standard deviation, min, max, quartiles) for age are provided for each soft drink preference. This allows us to compare the central tendency and variability of ages for each preference."
   ]
  },
  {
   "cell_type": "markdown",
   "metadata": {},
   "source": [
    "2. **Boxplot Visualization**:\n",
    "\n",
    "   - The boxplot visually represents the distribution of ages for each soft drink preference.\n",
    "\n",
    "   - It shows the median (middle line in the box), quartiles (box edges), and potential outliers (individual points outside the whiskers).\n",
    "   - Based on the boxplot, we can observe the following -\n",
    "\n",
    "     - For \"Coke,\" the median age appears to be around 26-27 years, with one potential outlier at 42 years.\n",
    "\n",
    "     - For \"Pepsi,\" the median age seems to be around 36-37 years, with one potential outlier at 19 years.\n",
    "     \n",
    "     - For \"Mountain Dew,\" the median age appears to be around 37 years."
   ]
  },
  {
   "cell_type": "markdown",
   "metadata": {},
   "source": [
    "3. **Initial Findings**:\n",
    "\n",
    "   - Based on this limited data, it seems that there might be some variation in soft drink preference by age.\n",
    "   \n",
    "   - \"Coke\" seems to have a relatively younger audience compared to \"Pepsi\" and \"Mountain Dew.\"\n"
   ]
  },
  {
   "cell_type": "markdown",
   "metadata": {},
   "source": [
    "4. **Limitations**:\n",
    "\n",
    "   - The dataset is very small, consisting of only six data points, which makes it difficult to draw strong conclusions.\n",
    "   \n",
    "   - It's important to note that age alone may not be the only factor influencing soft drink preference. Other variables, such as location, marketing, and personal taste, could also play a significant role."
   ]
  },
  {
   "cell_type": "markdown",
   "metadata": {},
   "source": [
    "5. **Recommendations**:\n",
    "\n",
    "   - To draw more robust conclusions about the relationship between age and soft drink preference, it would be advisable to collect a larger and more diverse dataset.\n",
    "   \n",
    "   - Conducting a broader survey that includes more participants from different age groups and regions could provide more meaningful insights."
   ]
  },
  {
   "cell_type": "markdown",
   "metadata": {},
   "source": [
    "`In summary`, based on the provided data, there appears to be some variation in soft drink preference by age, but further research with a larger and more representative sample is needed to make definitive conclusions about the relationship between age and soft drink preference."
   ]
  },
  {
   "cell_type": "markdown",
   "metadata": {},
   "source": [
    "-------------------------------------------------------------------------------------------------------------------------------------------------"
   ]
  },
  {
   "cell_type": "markdown",
   "metadata": {},
   "source": [
    "Q.No-06    A company is interested in examining the relationship between the number of sales calls made per day and the number of sales made per week. The company collected data on both variables from a sample of 30 sales representatives. Calculate the Pearson correlation coefficient between these two variables."
   ]
  },
  {
   "cell_type": "markdown",
   "metadata": {},
   "source": [
    "Ans :-"
   ]
  },
  {
   "cell_type": "markdown",
   "metadata": {},
   "source": [
    "1.    **Create Sample Data :-**"
   ]
  },
  {
   "cell_type": "code",
   "execution_count": 42,
   "metadata": {},
   "outputs": [],
   "source": [
    "import numpy as np\n",
    "\n",
    "# Sample data for the number of sales calls made per day and sales made per week\n",
    "sales_calls_per_day = [10, 12, 15, 18, 20, 22, 25, 30, 32, 35, 38, 40, 42, 45, 48, 50, 52, 55, 58, 60, 62, 65, 68, 70, 72, 75, 78, 80, 82, 85]\n",
    "sales_per_week = [2, 3, 5, 6, 7, 8, 9, 11, 12, 13, 15, 16, 18, 19, 20, 22, 23, 24, 26, 27, 29, 30, 32, 33, 35, 36, 37, 39, 40, 42]"
   ]
  },
  {
   "cell_type": "markdown",
   "metadata": {},
   "source": [
    "2.    **Calculate the Pearson correlation coefficient :-**"
   ]
  },
  {
   "cell_type": "code",
   "execution_count": 43,
   "metadata": {},
   "outputs": [
    {
     "name": "stdout",
     "output_type": "stream",
     "text": [
      "Pearson Correlation Coefficient: 0.9980493788043618\n"
     ]
    }
   ],
   "source": [
    "# Calculate the Pearson correlation coefficient\n",
    "correlation_coefficient = np.corrcoef(sales_calls_per_day, sales_per_week)[0, 1]\n",
    "print(f\"Pearson Correlation Coefficient: {correlation_coefficient}\")"
   ]
  },
  {
   "cell_type": "markdown",
   "metadata": {},
   "source": [
    "3.    **Result :-**"
   ]
  },
  {
   "cell_type": "code",
   "execution_count": 44,
   "metadata": {},
   "outputs": [
    {
     "name": "stdout",
     "output_type": "stream",
     "text": [
      "Pearson Correlation Coefficient: 0.9980\n"
     ]
    }
   ],
   "source": [
    "print(f\"Pearson Correlation Coefficient: {correlation_coefficient:.4f}\")"
   ]
  },
  {
   "cell_type": "markdown",
   "metadata": {},
   "source": [
    "                                        END"
   ]
  }
 ],
 "metadata": {
  "kernelspec": {
   "display_name": "Python 3",
   "language": "python",
   "name": "python3"
  },
  "language_info": {
   "codemirror_mode": {
    "name": "ipython",
    "version": 3
   },
   "file_extension": ".py",
   "mimetype": "text/x-python",
   "name": "python",
   "nbconvert_exporter": "python",
   "pygments_lexer": "ipython3",
   "version": "3.9.13"
  },
  "orig_nbformat": 4
 },
 "nbformat": 4,
 "nbformat_minor": 2
}
